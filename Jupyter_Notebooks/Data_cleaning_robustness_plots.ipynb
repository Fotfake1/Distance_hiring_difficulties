{
 "cells": [
  {
   "attachments": {},
   "cell_type": "markdown",
   "metadata": {},
   "source": [
    "# Robustness Checks and Data Cleaning Visuals\n",
    "\n",
    "#### This script first produces visuals, which explain the data cleaning process and after that it computes descriptives states for non cleaned dataset variables, as a robustness check"
   ]
  },
  {
   "cell_type": "code",
   "execution_count": 25,
   "metadata": {},
   "outputs": [],
   "source": [
    "# Import the required libraries\n",
    "from zipfile import ZipFile\n",
    "import pandas as pd\n",
    "import numpy as np\n",
    "import os\n",
    "import pickle\n",
    "import sys  \n",
    "import plotly.express as px\n",
    "import plotly.graph_objects as go\n",
    "import fuzzywuzzy as fw\n",
    "from fuzzywuzzy import fuzz\n",
    "import seaborn as sns\n",
    "import seaborn.objects as so \n",
    "import openpyxl\n",
    "#from functions_cleaning import *\n",
    "import geopy\n",
    "from geopy import distance\n",
    "import statsmodels.formula.api as sm\n",
    "import plotly.graph_objects as go\n",
    "from plotnine import *\n",
    "import matplotlib.pyplot as plt\n",
    "from statistics import mean\n",
    "#import functions_empirical_analysis as fea\n",
    "from linearmodels.iv.absorbing import AbsorbingLS\n",
    "import matplotlib.pyplot as plt\n",
    "import functions_cleaning as fc\n",
    "import functions_distance as fd"
   ]
  },
  {
   "cell_type": "code",
   "execution_count": 26,
   "metadata": {},
   "outputs": [
    {
     "name": "stderr",
     "output_type": "stream",
     "text": [
      "/var/folders/k1/n035yq891w95hzqpmlll09k80000gn/T/ipykernel_58277/989891039.py:7: DtypeWarning: Columns (13,18,22,26,30,32,39,41) have mixed types. Specify dtype option on import or set low_memory=False.\n"
     ]
    }
   ],
   "source": [
    "np.set_printoptions(threshold=sys.maxsize)\n",
    "# Paths for accessing files dynamically\n",
    "sub_path = os.getcwd()\n",
    "path_cwd = os.path.dirname(sub_path)\n",
    "path_dta = os.path.join(path_cwd, \"Data\")\n",
    "# read in the paths\n",
    "data = pd.DataFrame(pd.read_csv(path_dta + \"/vacancies.csv\"))\n"
   ]
  },
  {
   "cell_type": "code",
   "execution_count": 27,
   "metadata": {},
   "outputs": [],
   "source": [
    "# create the dataframe to track the shrinkage through the cleaning process\n",
    "data_srinkage_tracker = pd.DataFrame(columns=[\"Step_of_cleaning\",\"Observation_number\"])\n",
    "data_srinkage_tracker.loc[0, \"Step_of_cleaning\"] = \"Starting Point\" \n",
    "data_srinkage_tracker.loc[0, \"Observation_number\"] = data.shape[0]"
   ]
  },
  {
   "cell_type": "code",
   "execution_count": 28,
   "metadata": {},
   "outputs": [
    {
     "data": {
      "text/html": [
       "<div>\n",
       "<style scoped>\n",
       "    .dataframe tbody tr th:only-of-type {\n",
       "        vertical-align: middle;\n",
       "    }\n",
       "\n",
       "    .dataframe tbody tr th {\n",
       "        vertical-align: top;\n",
       "    }\n",
       "\n",
       "    .dataframe thead th {\n",
       "        text-align: right;\n",
       "    }\n",
       "</style>\n",
       "<table border=\"1\" class=\"dataframe\">\n",
       "  <thead>\n",
       "    <tr style=\"text-align: right;\">\n",
       "      <th></th>\n",
       "      <th>Step_of_cleaning</th>\n",
       "      <th>Observation_number</th>\n",
       "    </tr>\n",
       "  </thead>\n",
       "  <tbody>\n",
       "    <tr>\n",
       "      <th>0</th>\n",
       "      <td>Starting Point</td>\n",
       "      <td>1527554</td>\n",
       "    </tr>\n",
       "  </tbody>\n",
       "</table>\n",
       "</div>"
      ],
      "text/plain": [
       "  Step_of_cleaning Observation_number\n",
       "0   Starting Point            1527554"
      ]
     },
     "execution_count": 28,
     "metadata": {},
     "output_type": "execute_result"
    }
   ],
   "source": [
    "data_srinkage_tracker"
   ]
  },
  {
   "cell_type": "code",
   "execution_count": 29,
   "metadata": {},
   "outputs": [],
   "source": [
    "# list of all functions used in the cleaning process\n",
    "\n",
    "function_list = [\n",
    "    fc.__clean_duration,\n",
    "    fc.__clean_posting_count,\n",
    "    fc.__clean_contract_type,\n",
    "    fc.__clean_salary_dummy,\n",
    "    fc.__clean_advertiser_type_value,\n",
    "    fc.__clean_profession_code,\n",
    "    fc.__clean_job_ID,\n",
    "    fc.__clean_org_ID,\n",
    "    fc.__clean_working_hours,\n",
    "    fc.__clean_orga_industry_label,\n",
    "    fc.__clean_language,\n",
    "    fc.__clean_education_level,\n",
    "    fc.__clean_dates,\n",
    "    fc.__clean_firm_size,\n",
    "    fc.__clean_isco_code]"
   ]
  },
  {
   "cell_type": "code",
   "execution_count": 30,
   "metadata": {},
   "outputs": [
    {
     "name": "stderr",
     "output_type": "stream",
     "text": [
      "/Users/luisenriquekaiser/Desktop/Inhalte/Uni_Bonn/Seminar/Project/Applied_Micro/functions_cleaning.py:48: SettingWithCopyWarning: \n",
      "A value is trying to be set on a copy of a slice from a DataFrame.\n",
      "Try using .loc[row_indexer,col_indexer] = value instead\n",
      "\n",
      "See the caveats in the documentation: https://pandas.pydata.org/pandas-docs/stable/user_guide/indexing.html#returning-a-view-versus-a-copy\n",
      "/Users/luisenriquekaiser/Desktop/Inhalte/Uni_Bonn/Seminar/Project/Applied_Micro/functions_cleaning.py:77: SettingWithCopyWarning: \n",
      "A value is trying to be set on a copy of a slice from a DataFrame.\n",
      "Try using .loc[row_indexer,col_indexer] = value instead\n",
      "\n",
      "See the caveats in the documentation: https://pandas.pydata.org/pandas-docs/stable/user_guide/indexing.html#returning-a-view-versus-a-copy\n"
     ]
    }
   ],
   "source": [
    "# had to first call this function, since it is structurally different\n",
    "data = fc.__delete_rows_with_unique_values(\n",
    "        dataframe=data, column_name=\"organization_location_name\"\n",
    "    )\n",
    "data_srinkage_tracker.loc[1, \"Step_of_cleaning\"] = \"Starting Point\" \n",
    "data_srinkage_tracker.loc[1, \"Observation_number\"] = data.shape[0]\n",
    "\n",
    "# call all other functions and track the number of observations\n",
    "for i,func  in enumerate(function_list):\n",
    "    data = func(data=data)\n",
    "    data_srinkage_tracker.loc[i, \"Step_of_cleaning\"] = func.__name__\n",
    "    data_srinkage_tracker.loc[i, \"Observation_number\"] = data.shape[0]"
   ]
  },
  {
   "cell_type": "code",
   "execution_count": 31,
   "metadata": {},
   "outputs": [],
   "source": [
    "data_srinkage_tracker.loc[15, \"Step_of_cleaning\"] = \"Distance computation\"\n",
    "data_srinkage_tracker.loc[15, \"Observation_number\"] = 74027"
   ]
  },
  {
   "cell_type": "code",
   "execution_count": 32,
   "metadata": {},
   "outputs": [
    {
     "data": {
      "image/png": "[encoded data removed]",
      "text/plain": [
       "<Figure size 500x500 with 1 Axes>"
      ]
     },
     "metadata": {},
     "output_type": "display_data"
    }
   ],
   "source": [
    "# Create the lineplot with Seaborn\n",
    "ax = sns.catplot(x='Step_of_cleaning', y='Observation_number', kind=\"point\", data=data_srinkage_tracker)\n",
    "ax.set_xticklabels(range(1, data_srinkage_tracker.shape[0]+1))\n",
    "\n",
    "plt.xlabel(\"Steps of Cleaning\")\n",
    "plt.ylabel(\"Observation Number\")\n",
    "# Show the plot\n",
    "plt.show()"
   ]
  },
  {
   "cell_type": "code",
   "execution_count": 33,
   "metadata": {},
   "outputs": [
    {
     "data": {
      "text/html": [
       "<div>\n",
       "<style scoped>\n",
       "    .dataframe tbody tr th:only-of-type {\n",
       "        vertical-align: middle;\n",
       "    }\n",
       "\n",
       "    .dataframe tbody tr th {\n",
       "        vertical-align: top;\n",
       "    }\n",
       "\n",
       "    .dataframe thead th {\n",
       "        text-align: right;\n",
       "    }\n",
       "</style>\n",
       "<table border=\"1\" class=\"dataframe\">\n",
       "  <thead>\n",
       "    <tr style=\"text-align: right;\">\n",
       "      <th></th>\n",
       "      <th>Step_of_cleaning</th>\n",
       "      <th>Observation_number</th>\n",
       "    </tr>\n",
       "  </thead>\n",
       "  <tbody>\n",
       "    <tr>\n",
       "      <th>0</th>\n",
       "      <td>__clean_duration</td>\n",
       "      <td>1274593</td>\n",
       "    </tr>\n",
       "    <tr>\n",
       "      <th>1</th>\n",
       "      <td>__clean_posting_count</td>\n",
       "      <td>1256068</td>\n",
       "    </tr>\n",
       "    <tr>\n",
       "      <th>2</th>\n",
       "      <td>__clean_contract_type</td>\n",
       "      <td>963186</td>\n",
       "    </tr>\n",
       "    <tr>\n",
       "      <th>3</th>\n",
       "      <td>__clean_salary_dummy</td>\n",
       "      <td>963186</td>\n",
       "    </tr>\n",
       "    <tr>\n",
       "      <th>4</th>\n",
       "      <td>__clean_advertiser_type_value</td>\n",
       "      <td>713688</td>\n",
       "    </tr>\n",
       "    <tr>\n",
       "      <th>5</th>\n",
       "      <td>__clean_profession_code</td>\n",
       "      <td>713688</td>\n",
       "    </tr>\n",
       "    <tr>\n",
       "      <th>6</th>\n",
       "      <td>__clean_job_ID</td>\n",
       "      <td>713688</td>\n",
       "    </tr>\n",
       "    <tr>\n",
       "      <th>7</th>\n",
       "      <td>__clean_org_ID</td>\n",
       "      <td>713688</td>\n",
       "    </tr>\n",
       "    <tr>\n",
       "      <th>8</th>\n",
       "      <td>__clean_working_hours</td>\n",
       "      <td>713688</td>\n",
       "    </tr>\n",
       "    <tr>\n",
       "      <th>9</th>\n",
       "      <td>__clean_orga_industry_label</td>\n",
       "      <td>713688</td>\n",
       "    </tr>\n",
       "    <tr>\n",
       "      <th>10</th>\n",
       "      <td>__clean_language</td>\n",
       "      <td>713688</td>\n",
       "    </tr>\n",
       "    <tr>\n",
       "      <th>11</th>\n",
       "      <td>__clean_education_level</td>\n",
       "      <td>336236</td>\n",
       "    </tr>\n",
       "    <tr>\n",
       "      <th>12</th>\n",
       "      <td>__clean_dates</td>\n",
       "      <td>336236</td>\n",
       "    </tr>\n",
       "    <tr>\n",
       "      <th>13</th>\n",
       "      <td>__clean_firm_size</td>\n",
       "      <td>103218</td>\n",
       "    </tr>\n",
       "    <tr>\n",
       "      <th>14</th>\n",
       "      <td>__clean_isco_code</td>\n",
       "      <td>80176</td>\n",
       "    </tr>\n",
       "    <tr>\n",
       "      <th>15</th>\n",
       "      <td>Distance computation</td>\n",
       "      <td>74027</td>\n",
       "    </tr>\n",
       "  </tbody>\n",
       "</table>\n",
       "</div>"
      ],
      "text/plain": [
       "                 Step_of_cleaning Observation_number\n",
       "0                __clean_duration            1274593\n",
       "1           __clean_posting_count            1256068\n",
       "2           __clean_contract_type             963186\n",
       "3            __clean_salary_dummy             963186\n",
       "4   __clean_advertiser_type_value             713688\n",
       "5         __clean_profession_code             713688\n",
       "6                  __clean_job_ID             713688\n",
       "7                  __clean_org_ID             713688\n",
       "8           __clean_working_hours             713688\n",
       "9     __clean_orga_industry_label             713688\n",
       "10               __clean_language             713688\n",
       "11        __clean_education_level             336236\n",
       "12                  __clean_dates             336236\n",
       "13              __clean_firm_size             103218\n",
       "14              __clean_isco_code              80176\n",
       "15           Distance computation              74027"
      ]
     },
     "execution_count": 33,
     "metadata": {},
     "output_type": "execute_result"
    }
   ],
   "source": [
    "data_srinkage_tracker"
   ]
  },
  {
   "attachments": {},
   "cell_type": "markdown",
   "metadata": {},
   "source": [
    "## Robustness Checks Visuals"
   ]
  },
  {
   "attachments": {},
   "cell_type": "markdown",
   "metadata": {},
   "source": [
    "- I load in the initial dataset multiple times and perform only the most nessecary cleaning tasks, after that I compute the empiric stats\n",
    "- I do this for: Distance, Duration, Postings count\n",
    "- Salary, Language, Contract type\n"
   ]
  },
  {
   "cell_type": "code",
   "execution_count": 34,
   "metadata": {},
   "outputs": [],
   "source": [
    "# creates category counts \n",
    "\n",
    "def get_category_counts(df, col_name):\n",
    "    # Get the counts for each category\n",
    "    counts = df[col_name].value_counts()\n",
    "    \n",
    "    # Calculate the relative share for each category\n",
    "    relative_shares = counts / df.shape[0]\n",
    "    \n",
    "    # Create a new dataframe with the category names, the column name, and the relative shares\n",
    "    result = pd.DataFrame({'Category': counts.index, 'Column': col_name, 'Relative Share': relative_shares})\n",
    "    \n",
    "    return result"
   ]
  },
  {
   "attachments": {},
   "cell_type": "markdown",
   "metadata": {},
   "source": [
    "# Salary Dummy"
   ]
  },
  {
   "cell_type": "code",
   "execution_count": 35,
   "metadata": {},
   "outputs": [
    {
     "name": "stderr",
     "output_type": "stream",
     "text": [
      "/var/folders/k1/n035yq891w95hzqpmlll09k80000gn/T/ipykernel_58277/1010200292.py:8: DtypeWarning: Columns (13,18,22,26,30,32,39,41) have mixed types. Specify dtype option on import or set low_memory=False.\n"
     ]
    }
   ],
   "source": [
    "# Paths for accessing files dynamically\n",
    "np.set_printoptions(threshold=sys.maxsize)\n",
    "# Paths for accessing files dynamically\n",
    "sub_path = os.getcwd()\n",
    "path_cwd = os.path.dirname(sub_path)\n",
    "path_dta = os.path.join(path_cwd, \"Data\")\n",
    "# read in the paths\n",
    "data = pd.DataFrame(pd.read_csv(path_dta + \"/vacancies.csv\"))"
   ]
  },
  {
   "cell_type": "code",
   "execution_count": 36,
   "metadata": {},
   "outputs": [
    {
     "name": "stdout",
     "output_type": "stream",
     "text": [
      "       Category        Column  Relative Share\n",
      "False     False  salary_dummy        0.880112\n",
      "True       True  salary_dummy        0.119888\n",
      "1527554\n"
     ]
    }
   ],
   "source": [
    "#clean the salary\n",
    "data = fc.__clean_salary_dummy(data)\n",
    "salary_distr = get_category_counts(df = data, col_name = \"salary_dummy\")\n",
    "nr_obs = data.shape[0]\n",
    "print(salary_distr)\n",
    "print(nr_obs)"
   ]
  },
  {
   "attachments": {},
   "cell_type": "markdown",
   "metadata": {},
   "source": [
    "# Duration"
   ]
  },
  {
   "cell_type": "code",
   "execution_count": 37,
   "metadata": {},
   "outputs": [
    {
     "name": "stderr",
     "output_type": "stream",
     "text": [
      "/var/folders/k1/n035yq891w95hzqpmlll09k80000gn/T/ipykernel_58277/3014200383.py:9: DtypeWarning: Columns (13,18,22,26,30,32,39,41) have mixed types. Specify dtype option on import or set low_memory=False.\n"
     ]
    }
   ],
   "source": [
    "# salary \n",
    "# Paths for accessing files dynamically\n",
    "np.set_printoptions(threshold=sys.maxsize)\n",
    "# Paths for accessing files dynamically\n",
    "sub_path = os.getcwd()\n",
    "path_cwd = os.path.dirname(sub_path)\n",
    "path_dta = os.path.join(path_cwd, \"Data\")\n",
    "# read in the paths\n",
    "data = pd.DataFrame(pd.read_csv(path_dta + \"/vacancies.csv\"))"
   ]
  },
  {
   "cell_type": "code",
   "execution_count": 38,
   "metadata": {},
   "outputs": [
    {
     "name": "stdout",
     "output_type": "stream",
     "text": [
      "count    1512018.0\n",
      "mean          67.1\n",
      "std           81.5\n",
      "min            1.0\n",
      "25%           14.0\n",
      "50%           39.0\n",
      "75%           80.0\n",
      "max          365.0\n",
      "Name: duration, dtype: float64\n"
     ]
    },
    {
     "name": "stderr",
     "output_type": "stream",
     "text": [
      "/Users/luisenriquekaiser/Desktop/Inhalte/Uni_Bonn/Seminar/Project/Applied_Micro/functions_cleaning.py:48: SettingWithCopyWarning: \n",
      "A value is trying to be set on a copy of a slice from a DataFrame.\n",
      "Try using .loc[row_indexer,col_indexer] = value instead\n",
      "\n",
      "See the caveats in the documentation: https://pandas.pydata.org/pandas-docs/stable/user_guide/indexing.html#returning-a-view-versus-a-copy\n"
     ]
    }
   ],
   "source": [
    "#clean the duration\n",
    "data = fc.__clean_duration(data = data)\n",
    "summary = data[\"duration\"].describe().round(1)\n",
    "print(summary)"
   ]
  },
  {
   "cell_type": "code",
   "execution_count": 39,
   "metadata": {},
   "outputs": [
    {
     "data": {
      "image/png": "[encoded data removed]",
      "text/plain": [
       "<Figure size 640x480 with 1 Axes>"
      ]
     },
     "metadata": {},
     "output_type": "display_data"
    }
   ],
   "source": [
    "# Add a histogram\n",
    "from IPython.display import display\n",
    "plot = sns.histplot(data=data, x=\"duration\", bins=30, stat=\"density\")\n",
    "plt.savefig(\"duration_uncleaned_histogram.png\", format = \"png\", dpi = 300)\n",
    "plt.show()"
   ]
  },
  {
   "cell_type": "markdown",
   "metadata": {},
   "source": [
    "# Posting Count"
   ]
  },
  {
   "cell_type": "code",
   "execution_count": 40,
   "metadata": {},
   "outputs": [
    {
     "name": "stderr",
     "output_type": "stream",
     "text": [
      "/var/folders/k1/n035yq891w95hzqpmlll09k80000gn/T/ipykernel_58277/1010200292.py:8: DtypeWarning: Columns (13,18,22,26,30,32,39,41) have mixed types. Specify dtype option on import or set low_memory=False.\n"
     ]
    }
   ],
   "source": [
    "# Paths for accessing files dynamically\n",
    "np.set_printoptions(threshold=sys.maxsize)\n",
    "# Paths for accessing files dynamically\n",
    "sub_path = os.getcwd()\n",
    "path_cwd = os.path.dirname(sub_path)\n",
    "path_dta = os.path.join(path_cwd, \"Data\")\n",
    "# read in the paths\n",
    "data = pd.DataFrame(pd.read_csv(path_dta + \"/vacancies.csv\"))"
   ]
  },
  {
   "cell_type": "code",
   "execution_count": 41,
   "metadata": {},
   "outputs": [
    {
     "name": "stdout",
     "output_type": "stream",
     "text": [
      "count    1492609.0\n",
      "mean           2.6\n",
      "std            3.7\n",
      "min            1.0\n",
      "25%            1.0\n",
      "50%            1.0\n",
      "75%            2.0\n",
      "max           20.0\n",
      "Name: posting_count, dtype: float64\n"
     ]
    }
   ],
   "source": [
    "#clean the posting count\n",
    "data = fc.__clean_posting_count(data = data)\n",
    "summary = data[\"posting_count\"].describe().round(1)\n",
    "print(summary)"
   ]
  },
  {
   "attachments": {},
   "cell_type": "markdown",
   "metadata": {},
   "source": [
    "# Language"
   ]
  },
  {
   "cell_type": "code",
   "execution_count": 42,
   "metadata": {},
   "outputs": [
    {
     "name": "stderr",
     "output_type": "stream",
     "text": [
      "/var/folders/k1/n035yq891w95hzqpmlll09k80000gn/T/ipykernel_58277/1010200292.py:8: DtypeWarning: Columns (13,18,22,26,30,32,39,41) have mixed types. Specify dtype option on import or set low_memory=False.\n"
     ]
    }
   ],
   "source": [
    "# Paths for accessing files dynamically\n",
    "np.set_printoptions(threshold=sys.maxsize)\n",
    "# Paths for accessing files dynamically\n",
    "sub_path = os.getcwd()\n",
    "path_cwd = os.path.dirname(sub_path)\n",
    "path_dta = os.path.join(path_cwd, \"Data\")\n",
    "# read in the paths\n",
    "data = pd.DataFrame(pd.read_csv(path_dta + \"/vacancies.csv\"))"
   ]
  },
  {
   "cell_type": "code",
   "execution_count": 43,
   "metadata": {},
   "outputs": [
    {
     "name": "stdout",
     "output_type": "stream",
     "text": [
      "                    Category                      Column  Relative Share\n",
      "German                German  Applicant_language_cluster        0.958584\n",
      "International  International  Applicant_language_cluster        0.041416\n",
      "1490624\n"
     ]
    },
    {
     "name": "stderr",
     "output_type": "stream",
     "text": [
      "/Users/luisenriquekaiser/Desktop/Inhalte/Uni_Bonn/Seminar/Project/Applied_Micro/functions_cleaning.py:151: SettingWithCopyWarning: \n",
      "A value is trying to be set on a copy of a slice from a DataFrame.\n",
      "Try using .loc[row_indexer,col_indexer] = value instead\n",
      "\n",
      "See the caveats in the documentation: https://pandas.pydata.org/pandas-docs/stable/user_guide/indexing.html#returning-a-view-versus-a-copy\n"
     ]
    }
   ],
   "source": [
    "# clean the language\n",
    "data = fc.__clean_language(data = data)\n",
    "Language_distr = get_category_counts(df = data, col_name = \"Applicant_language_cluster\")\n",
    "nr_obs = data.shape[0]\n",
    "print(Language_distr)\n",
    "print(nr_obs)"
   ]
  },
  {
   "attachments": {},
   "cell_type": "markdown",
   "metadata": {},
   "source": [
    "# Education Level"
   ]
  },
  {
   "cell_type": "code",
   "execution_count": 44,
   "metadata": {},
   "outputs": [
    {
     "name": "stderr",
     "output_type": "stream",
     "text": [
      "/var/folders/k1/n035yq891w95hzqpmlll09k80000gn/T/ipykernel_58277/1010200292.py:8: DtypeWarning: Columns (13,18,22,26,30,32,39,41) have mixed types. Specify dtype option on import or set low_memory=False.\n"
     ]
    }
   ],
   "source": [
    "# Paths for accessing files dynamically\n",
    "np.set_printoptions(threshold=sys.maxsize)\n",
    "# Paths for accessing files dynamically\n",
    "sub_path = os.getcwd()\n",
    "path_cwd = os.path.dirname(sub_path)\n",
    "path_dta = os.path.join(path_cwd, \"Data\")\n",
    "# read in the paths\n",
    "data = pd.DataFrame(pd.read_csv(path_dta + \"/vacancies.csv\"))"
   ]
  },
  {
   "cell_type": "code",
   "execution_count": 45,
   "metadata": {},
   "outputs": [
    {
     "name": "stdout",
     "output_type": "stream",
     "text": [
      "                                    Category                   Column  \\\n",
      "Non university degree  Non university degree  education_level_cluster   \n",
      "University degree          University degree  education_level_cluster   \n",
      "\n",
      "                       Relative Share  \n",
      "Non university degree        0.636499  \n",
      "University degree            0.363501  \n",
      "713919\n"
     ]
    }
   ],
   "source": [
    "# clean education \n",
    "data = fc.__clean_education_level(data=data)\n",
    "educ_distr = get_category_counts(df = data, col_name = \"education_level_cluster\")\n",
    "nr_obs = data.shape[0]\n",
    "print(educ_distr)\n",
    "print(nr_obs)"
   ]
  },
  {
   "cell_type": "markdown",
   "metadata": {},
   "source": [
    "# Distance"
   ]
  },
  {
   "cell_type": "code",
   "execution_count": 46,
   "metadata": {},
   "outputs": [],
   "source": [
    "\n",
    "used_columns = [\n",
    "    \"organization_location_name\",\n",
    "    \"advertiser_type_value\",\n",
    "    \"advertiser_type_label\",\n",
    "    \"posting_count\",\n",
    "    \"date\",\n",
    "    \"duration\",\n",
    "    \"via_intermediary\",\n",
    "    \"language\",\n",
    "    \"job_title\",\n",
    "    \"profession_value\",\n",
    "    \"profession_isco_code_value\",\n",
    "    \"profession_isco_code_label\",\n",
    "    \"location\",\n",
    "    \"location_name\",\n",
    "    \"region_value\",\n",
    "    \"region_label\",\n",
    "    \"education_level_value\",\n",
    "    \"education_level_label\",\n",
    "    \"contract_type_value\",\n",
    "    \"contract_type_label\",\n",
    "    \"working_hours_type_value\",\n",
    "    \"working_hours_type_label\",\n",
    "    \"hours_per_week_from\",\n",
    "    \"hours_per_week_to\",\n",
    "    \"salary\",\n",
    "    \"organization_industry_value\",\n",
    "    \"organization_industry_label\",\n",
    "    \"organization_size_value\",\n",
    "    \"organization_size_label\",\n",
    "    \"location_coordinates\",\n",
    "    \"organization_ID\",\n",
    "    \"contract_type_label_cluster\",\n",
    "    \"salary_dummy\",\n",
    "    \"Applicant_language_cluster\",\n",
    "    \"education_level_cluster\",\n",
    "    \"quarter_of_date\",\n",
    "    \"month_of_date\",\n",
    "    \"log_duration\",\n",
    "    \"Latitudal_coordinates_organization\",\n",
    "    \"Longitudinal_coordinates_organization\",\n",
    "    \"Fuzzy_Rating\",\n",
    "    \"latitudal_coordinates_job\",\n",
    "    \"longitudinal_coordinates_job\",\n",
    "    \"distance_between_job_and_organization\",\n",
    "    \"profession_isco_code_value_agg_1\",\n",
    "    \"profession_isco_code_value_agg_2\",\n",
    "]"
   ]
  },
  {
   "cell_type": "code",
   "execution_count": 47,
   "metadata": {},
   "outputs": [
    {
     "name": "stderr",
     "output_type": "stream",
     "text": [
      "/var/folders/k1/n035yq891w95hzqpmlll09k80000gn/T/ipykernel_58277/165966093.py:8: DtypeWarning: Columns (13,18,22,26,30,32,39,41) have mixed types. Specify dtype option on import or set low_memory=False.\n"
     ]
    }
   ],
   "source": [
    "# Paths for accessing files dynamically\n",
    "np.set_printoptions(threshold=sys.maxsize)\n",
    "# Paths for accessing files dynamically\n",
    "sub_path = os.getcwd()\n",
    "path_cwd = os.path.dirname(sub_path)\n",
    "path_dta = os.path.join(path_cwd, \"Data\")\n",
    "# read in the paths\n",
    "data = pd.DataFrame(pd.read_csv(path_dta + \"/vacancies.csv\"))\n",
    "\n",
    "np.set_printoptions(threshold=sys.maxsize)\n",
    "# Paths for accessing files dynamically\n",
    "sub_path = os.getcwd()\n",
    "path_cwd = os.path.dirname(sub_path)\n",
    "path_dta_cleaned = os.path.join(path_cwd, \"Data_cleaned\")\n",
    "path_dta = os.path.join(path_cwd, \"Data\")\n",
    "# read in the paths\n",
    "city_gps_match_data = pd.DataFrame(pd.read_excel(path_dta + \"/Cities_gps.xlsx\"))"
   ]
  },
  {
   "cell_type": "code",
   "execution_count": 48,
   "metadata": {},
   "outputs": [
    {
     "name": "stderr",
     "output_type": "stream",
     "text": [
      "/Users/luisenriquekaiser/Desktop/Inhalte/Uni_Bonn/Seminar/Project/Applied_Micro/functions_distance.py:232: SettingWithCopyWarning: \n",
      "A value is trying to be set on a copy of a slice from a DataFrame\n",
      "\n",
      "See the caveats in the documentation: https://pandas.pydata.org/pandas-docs/stable/user_guide/indexing.html#returning-a-view-versus-a-copy\n"
     ]
    }
   ],
   "source": [
    "# create the distance measure\n",
    "data = fd.create_distance_measures(\n",
    "    data=data, city_gps_match_data=city_gps_match_data, used_columns=used_columns\n",
    ")\n",
    "# if not os.path.exists(os.path.dirname(filepath)):\n",
    "#    os.makedirs(os.path.dirname(filepath))\n"
   ]
  },
  {
   "cell_type": "code",
   "execution_count": 49,
   "metadata": {},
   "outputs": [],
   "source": [
    "data = data[0]"
   ]
  },
  {
   "cell_type": "code",
   "execution_count": 50,
   "metadata": {},
   "outputs": [
    {
     "name": "stdout",
     "output_type": "stream",
     "text": [
      "count    1127616.0\n",
      "mean         135.3\n",
      "std          170.6\n",
      "min            0.0\n",
      "25%            3.4\n",
      "50%           37.6\n",
      "75%          244.0\n",
      "max          841.6\n",
      "Name: distance_between_job_and_organization, dtype: float64\n"
     ]
    }
   ],
   "source": [
    "summary = data[\"distance_between_job_and_organization\"].describe().round(1)\n",
    "print(summary)"
   ]
  },
  {
   "cell_type": "code",
   "execution_count": 51,
   "metadata": {},
   "outputs": [
    {
     "data": {
      "image/png": "[encoded data removed]",
      "text/plain": [
       "<Figure size 640x480 with 1 Axes>"
      ]
     },
     "metadata": {},
     "output_type": "display_data"
    }
   ],
   "source": [
    "from IPython.display import display\n",
    "plot = sns.histplot(data=data, x=\"distance_between_job_and_organization\", bins=30, stat=\"density\")\n",
    "plt.savefig(\"distance_uncleaned_data.png\", format = \"png\", dpi = 300)\n",
    "plt.show()"
   ]
  },
  {
   "attachments": {},
   "cell_type": "markdown",
   "metadata": {},
   "source": [
    "# Robustness Checks 2 \n",
    "#### I create an extrapolated version of the salary variable in two ways."
   ]
  },
  {
   "cell_type": "code",
   "execution_count": 52,
   "metadata": {},
   "outputs": [],
   "source": [
    "# Import the required libraries\n",
    "from zipfile import ZipFile\n",
    "import pandas as pd\n",
    "import numpy as np\n",
    "import os\n",
    "import pickle\n",
    "import sys  \n",
    "import plotly.express as px\n",
    "import plotly.graph_objects as go\n",
    "import fuzzywuzzy as fw\n",
    "from fuzzywuzzy import fuzz\n",
    "import seaborn as sns\n",
    "import seaborn.objects as so \n",
    "import openpyxl\n",
    "#from functions_cleaning import *\n",
    "import geopy\n",
    "from geopy import distance\n",
    "import statsmodels.formula.api as sm\n",
    "import plotly.graph_objects as go\n",
    "from plotnine import *\n",
    "import matplotlib.pyplot as plt\n",
    "from statistics import mean\n",
    "#import functions_empirical_analysis as fea\n",
    "from sklearn.impute import KNNImputer\n",
    "from sklearn.preprocessing import MinMaxScaler\n",
    "from linearmodels.iv.absorbing import AbsorbingLS\n",
    "import matplotlib.pyplot as plt\n",
    "import functions_cleaning as fc"
   ]
  },
  {
   "cell_type": "code",
   "execution_count": 53,
   "metadata": {},
   "outputs": [],
   "source": [
    "# Paths for accessing files dynamically\n",
    "sub_path = os.getcwd()\n",
    "path_cwd = os.path.dirname(sub_path)\n",
    "path_dta = os.path.join(path_cwd, \"Applied_Micro\")\n",
    "data = pd.DataFrame(pd.read_excel(path_dta + \"/Dataset_with_interactions.xlsx\"))"
   ]
  },
  {
   "attachments": {},
   "cell_type": "markdown",
   "metadata": {},
   "source": [
    "- The idea is to extrapolate the salary for all values, where it is present\n",
    "- I will use the threshold of 20000 as a threshold for a false salary, since the salaries should be on a yearly basis. \n",
    "- I will try two different extrapolation methods: \n",
    "    1) I will use all values below that as monthly salaries and compute the theoretical yearly salary.\n",
    "    2) I will take the mean value of all values above that. All values below that get the mean value. "
   ]
  },
  {
   "cell_type": "code",
   "execution_count": 54,
   "metadata": {},
   "outputs": [],
   "source": [
    "def salary_extrapolator_1 (data, threshold): \n",
    "    # clean the salary\n",
    "    data[\"salary_extrapolated_multiplication\"] = data[\"salary\"]\n",
    "    data[\"salary_extrapolated_multiplication\"] = pd.to_numeric(data[\"salary_extrapolated_multiplication\"], errors=\"coerce\")\n",
    "    # extrapolate the salary \n",
    "    for i in range(data.shape[0]):\n",
    "            if data.loc[i, \"salary_extrapolated_multiplication\"] < threshold:\n",
    "                data.loc[i, \"salary_extrapolated_multiplication\"] = data.loc[i, \"salary_extrapolated_multiplication\"] * 12\n",
    "            if data.loc[i, \"salary_extrapolated_multiplication\"] < threshold:\n",
    "                data.loc[i, \"salary_extrapolated_multiplication\"] = threshold\n",
    "    return data\n",
    "\n",
    "def salary_extrapolator_2 (data, threshold):\n",
    "    # clean the salary\n",
    "    mean_salary = data[\"salary\"].mean()\n",
    "    data[\"salary_extrapolated_mean\"] = data[\"salary\"]\n",
    "    # extrapolate the salary\n",
    "    for i in range(data.shape[0]):\n",
    "        if data.loc[i, \"salary_extrapolated_mean\"] < threshold:\n",
    "            data.loc[i, \"salary_extrapolated_mean\"] = data.loc[i, \"salary\"]\n",
    "            data.loc[i, \"salary_extrapolated_mean\"] = mean_salary\n",
    "    #    else: \n",
    "    #        data.loc[i, \"salary_extrapolated_mean\"] = data.loc[i, \"salary\"]        \n",
    "    return data\n",
    "\n"
   ]
  },
  {
   "cell_type": "code",
   "execution_count": 55,
   "metadata": {},
   "outputs": [
    {
     "name": "stdout",
     "output_type": "stream",
     "text": [
      "count      6887.0\n",
      "mean      16665.5\n",
      "std       15717.3\n",
      "min        5120.0\n",
      "25%       11400.0\n",
      "50%       11400.0\n",
      "75%       12600.0\n",
      "max      250000.0\n",
      "Name: salary, dtype: float64\n"
     ]
    }
   ],
   "source": [
    "summary_before_extrapolation = data[\"salary\"].describe().round(1)\n",
    "print(summary_before_extrapolation)"
   ]
  },
  {
   "cell_type": "code",
   "execution_count": 56,
   "metadata": {},
   "outputs": [],
   "source": [
    "data = salary_extrapolator_1(data = data, threshold = 20000)"
   ]
  },
  {
   "cell_type": "code",
   "execution_count": 57,
   "metadata": {},
   "outputs": [
    {
     "name": "stdout",
     "output_type": "stream",
     "text": [
      "count      6887.0\n",
      "mean     123936.0\n",
      "std       44928.7\n",
      "min       20000.0\n",
      "25%      108000.0\n",
      "50%      136800.0\n",
      "75%      136800.0\n",
      "max      250000.0\n",
      "Name: salary_extrapolated_multiplication, dtype: float64\n"
     ]
    }
   ],
   "source": [
    "summary_after_extrapolation_1 = data[\"salary_extrapolated_multiplication\"].describe().round(1)\n",
    "print(summary_after_extrapolation_1)"
   ]
  },
  {
   "cell_type": "code",
   "execution_count": 58,
   "metadata": {},
   "outputs": [],
   "source": [
    "data = salary_extrapolator_2(data = data, threshold = 20000)"
   ]
  },
  {
   "cell_type": "code",
   "execution_count": 59,
   "metadata": {},
   "outputs": [
    {
     "name": "stdout",
     "output_type": "stream",
     "text": [
      "count      6887.0\n",
      "mean      21081.8\n",
      "std       14092.0\n",
      "min       16665.5\n",
      "25%       16665.5\n",
      "50%       16665.5\n",
      "75%       16665.5\n",
      "max      250000.0\n",
      "Name: salary_extrapolated_mean, dtype: float64\n"
     ]
    }
   ],
   "source": [
    "summary_after_extrapolation_2 = data[\"salary_extrapolated_mean\"].describe().round(1)\n",
    "print(summary_after_extrapolation_2)"
   ]
  },
  {
   "cell_type": "code",
   "execution_count": 60,
   "metadata": {},
   "outputs": [],
   "source": [
    "data.to_excel(\"Dataset_with_interactions_and_salary_extrapolated.xlsx\", index=False)"
   ]
  }
 ],
 "metadata": {
  "kernelspec": {
   "display_name": "data_cleaning_applied_micro",
   "language": "python",
   "name": "python3"
  },
  "language_info": {
   "codemirror_mode": {
    "name": "ipython",
    "version": 3
   },
   "file_extension": ".py",
   "mimetype": "text/x-python",
   "name": "python",
   "nbconvert_exporter": "python",
   "pygments_lexer": "ipython3",
   "version": "3.10.8"
  },
  "orig_nbformat": 4,
  "vscode": {
   "interpreter": {
    "hash": "6803063efad85c668a7ab10c300a75da6ba52ec07d2e3728dc9ba140f4717c11"
   }
  }
 },
 "nbformat": 4,
 "nbformat_minor": 2
}
